{
  "nbformat": 4,
  "nbformat_minor": 0,
  "metadata": {
    "colab": {
      "name": "RNN_text_classification_Exercise_min.ipynb",
      "provenance": [],
      "collapsed_sections": []
    },
    "kernelspec": {
      "name": "python3",
      "display_name": "Python 3"
    },
    "accelerator": "GPU"
  },
  "cells": [
    {
      "cell_type": "markdown",
      "metadata": {
        "id": "5KOsOO6wZwgl",
        "colab_type": "text"
      },
      "source": [
        "# Text classification with an RNN\n",
        "\n"
      ]
    },
    {
      "cell_type": "markdown",
      "metadata": {
        "id": "l4vJ9eI_ZrS9",
        "colab_type": "text"
      },
      "source": [
        "This short text classification tutorial trains a [recurrent neural network](https://developers.google.com/machine-learning/glossary/#recurrent_neural_network) on the [IMDB large movie review dataset](http://ai.stanford.edu/~amaas/data/sentiment/) for sentiment analysis. This exercise classifies movie reviews as positive or negative using the text of the review. So, this is an example of utilizing RNNs for binary classification.\n",
        "\n",
        "We'll use the IMDB dataset that contains the text of 50,000 movie reviews from the Internet Movie Database. These are split into 25,000 reviews for training and 25,000 reviews for testing. The training and testing sets are balanced, meaning they contain an equal number of positive and negative reviews."
      ]
    },
    {
      "cell_type": "code",
      "metadata": {
        "id": "lVrWFCAQZ0b8",
        "colab_type": "code",
        "colab": {}
      },
      "source": [
        "from __future__ import absolute_import, division, print_function, unicode_literals\n",
        "\n",
        "import tensorflow_datasets as tfds\n",
        "import tensorflow as tf"
      ],
      "execution_count": 1,
      "outputs": []
    },
    {
      "cell_type": "markdown",
      "metadata": {
        "id": "7-MYVED3Z9Sk",
        "colab_type": "text"
      },
      "source": [
        "Import `matplotlib` and create a helper function to plot graphs:"
      ]
    },
    {
      "cell_type": "code",
      "metadata": {
        "id": "g_pY7gYWaBVs",
        "colab_type": "code",
        "colab": {}
      },
      "source": [
        "import matplotlib.pyplot as plt\n",
        "\n",
        "\n",
        "def plot_graphs(history, string):\n",
        "  plt.plot(history.history[string])\n",
        "  plt.plot(history.history['val_'+string])\n",
        "  plt.xlabel(\"Epochs\")\n",
        "  plt.ylabel(string)\n",
        "  plt.legend([string, 'val_'+string])\n",
        "  plt.show()"
      ],
      "execution_count": 2,
      "outputs": []
    },
    {
      "cell_type": "markdown",
      "metadata": {
        "id": "Cri-vvJjaH9l",
        "colab_type": "text"
      },
      "source": [
        "## Setup input pipeline\n",
        "\n",
        "\n",
        "The IMDB large movie review dataset is a *binary classification* dataset—all the reviews have either a *positive* or *negative* sentiment.\n",
        "\n"
      ]
    },
    {
      "cell_type": "code",
      "metadata": {
        "id": "efRjP9ena5kE",
        "colab_type": "code",
        "colab": {}
      },
      "source": [
        "### download the dataset using TFDS (https://www.tensorflow.org/datasets). The dataset comes with an inbuilt subword tokenizer. \n",
        "\n",
        "dataset, info = tfds.load('imdb_reviews/subwords8k', with_info=True,\n",
        "                          as_supervised=True)\n",
        "\n",
        "train_dataset, test_dataset = dataset['train'], dataset['test']"
      ],
      "execution_count": 4,
      "outputs": []
    },
    {
      "cell_type": "markdown",
      "metadata": {
        "id": "tXRCMTp8bYp0",
        "colab_type": "text"
      },
      "source": [
        "As this is a subwords tokenizer, it can be passed any string and the tokenizer will tokenize it.\n",
        "\n",
        "A tokenizer breaks down sentences into word representations. It then converts each word into a suitable word vector (word embedding) which is a very efficient representation that is to be fed to the LSTM layers."
      ]
    },
    {
      "cell_type": "code",
      "metadata": {
        "id": "dr5HYJ6cbbEl",
        "colab_type": "code",
        "colab": {}
      },
      "source": [
        "tokenizer = info.features['text'].encoder"
      ],
      "execution_count": 5,
      "outputs": []
    },
    {
      "cell_type": "code",
      "metadata": {
        "id": "z_KLr12LbgPE",
        "colab_type": "code",
        "colab": {
          "base_uri": "https://localhost:8080/",
          "height": 34
        },
        "outputId": "264f9001-e55d-4797-d93c-8696d92e0caf"
      },
      "source": [
        "# print the Vocabulary size of the dataset\n",
        "\n",
        "print ('Vocabulary size: {}'.format(tokenizer.vocab_size))"
      ],
      "execution_count": 6,
      "outputs": [
        {
          "output_type": "stream",
          "text": [
            "Vocabulary size: 8185\n"
          ],
          "name": "stdout"
        }
      ]
    },
    {
      "cell_type": "code",
      "metadata": {
        "id": "UbAN8o8TdeLJ",
        "colab_type": "code",
        "colab": {
          "base_uri": "https://localhost:8080/",
          "height": 52
        },
        "outputId": "2a513ecb-074a-436b-c998-7dee59817944"
      },
      "source": [
        "# test the encoding/decoding format of an example string\n",
        "\n",
        "sample_string = 'RNNs are a cool DL framework.'\n",
        "\n",
        "tokenized_string = tokenizer.encode(sample_string)\n",
        "print ('Tokenized string is {}'.format(tokenized_string))\n",
        "\n",
        "original_string = tokenizer.decode(tokenized_string)\n",
        "print ('The original string: {}'.format(original_string))\n",
        "\n",
        "assert original_string == sample_string"
      ],
      "execution_count": 7,
      "outputs": [
        {
          "output_type": "stream",
          "text": [
            "Tokenized string is [8011, 8007, 8007, 8, 29, 4, 1690, 7997, 3780, 2692, 431, 7975]\n",
            "The original string: RNNs are a cool DL framework.\n"
          ],
          "name": "stdout"
        }
      ]
    },
    {
      "cell_type": "markdown",
      "metadata": {
        "id": "KUIyUG_kd9J8",
        "colab_type": "text"
      },
      "source": [
        "The tokenizer encodes the string by breaking it into subwords if the word is not in its dictionary."
      ]
    },
    {
      "cell_type": "code",
      "metadata": {
        "id": "MYHhpWWrd9oE",
        "colab_type": "code",
        "colab": {
          "base_uri": "https://localhost:8080/",
          "height": 228
        },
        "outputId": "fc001228-ec01-4b4b-d59b-3f636388cccf"
      },
      "source": [
        "for ts in tokenized_string:\n",
        "  print ('{} ----> {}'.format(ts, tokenizer.decode([ts])))"
      ],
      "execution_count": 8,
      "outputs": [
        {
          "output_type": "stream",
          "text": [
            "8011 ----> R\n",
            "8007 ----> N\n",
            "8007 ----> N\n",
            "8 ----> s \n",
            "29 ----> are \n",
            "4 ----> a \n",
            "1690 ----> cool \n",
            "7997 ----> D\n",
            "3780 ----> L \n",
            "2692 ----> frame\n",
            "431 ----> work\n",
            "7975 ----> .\n"
          ],
          "name": "stdout"
        }
      ]
    },
    {
      "cell_type": "markdown",
      "metadata": {
        "id": "9mv4XaOG7kgk",
        "colab_type": "text"
      },
      "source": [
        "Let us try to visualize our training data. Each example is a sentence representing the movie review and a corresponding label. The sentence is not preprocessed in any way. The label is an integer value of either 0 or 1, where 0 is a negative review, and 1 is a positive review.\n",
        "\n",
        "Let us print a trianing example."
      ]
    },
    {
      "cell_type": "code",
      "metadata": {
        "id": "hFmLQEHp7sNc",
        "colab_type": "code",
        "colab": {
          "base_uri": "https://localhost:8080/",
          "height": 298
        },
        "outputId": "b3d854b7-8dfb-4831-fba8-e9b3c8ce832c"
      },
      "source": [
        "train_examples_batch, train_labels_batch = next(iter(train_dataset.batch(1)))\n",
        "train_examples_batch"
      ],
      "execution_count": 9,
      "outputs": [
        {
          "output_type": "execute_result",
          "data": {
            "text/plain": [
              "<tf.Tensor: shape=(1, 163), dtype=int64, numpy=\n",
              "array([[  62,   18,   41,  604,  927,   65,    3,  644, 7968,   21,   35,\n",
              "        5096,   36,   11,   43, 2948, 5240,  102,   50,  681, 7862, 1244,\n",
              "           3, 3266,   29,  122,  640,    2,   26,   14,  279,  438,   35,\n",
              "          79,  349,  384,   11, 1991,    3,  492,   79,  122,  188,  117,\n",
              "          33, 4047, 4531,   14,   65, 7968,    8, 1819, 3947,    3,   62,\n",
              "          27,    9,   41,  577, 5044, 2629, 2552, 7193, 7961, 3642,    3,\n",
              "          19,  107, 3903,  225,   85,  198,   72,    1, 1512,  738, 2347,\n",
              "         102, 6245,    8,   85,  308,   79, 6936, 7961,   23, 4981, 8044,\n",
              "           3, 6429, 7961, 1141, 1335, 1848, 4848,   55, 3601, 4217, 8050,\n",
              "           2,    5,   59, 3831, 1484, 8040, 7974,  174, 5773,   22, 5240,\n",
              "         102,   18,  247,   26,    4, 3903, 1612, 3902,  291,   11,    4,\n",
              "          27,   13,   18, 4092, 4008, 7961,    6,  119,  213, 2774,    3,\n",
              "          12,  258, 2306,   13,   91,   29,  171,   52,  229,    2, 1245,\n",
              "        5790,  995, 7968,    8,   52, 2948, 5240, 8039, 7968,    8,   74,\n",
              "        1249,    3,   12,  117, 2438, 1369,  192,   39, 7975]])>"
            ]
          },
          "metadata": {
            "tags": []
          },
          "execution_count": 9
        }
      ]
    },
    {
      "cell_type": "markdown",
      "metadata": {
        "id": "eT8MDiN57vcI",
        "colab_type": "text"
      },
      "source": [
        "Let us also print the corresponding label"
      ]
    },
    {
      "cell_type": "code",
      "metadata": {
        "id": "IVykrrqP7yUX",
        "colab_type": "code",
        "colab": {
          "base_uri": "https://localhost:8080/",
          "height": 34
        },
        "outputId": "0aa8173d-87b5-49b7-ef11-d88bcbf55646"
      },
      "source": [
        "train_labels_batch"
      ],
      "execution_count": 10,
      "outputs": [
        {
          "output_type": "execute_result",
          "data": {
            "text/plain": [
              "<tf.Tensor: shape=(1,), dtype=int64, numpy=array([0])>"
            ]
          },
          "metadata": {
            "tags": []
          },
          "execution_count": 10
        }
      ]
    },
    {
      "cell_type": "code",
      "metadata": {
        "id": "na29-KdO8m8z",
        "colab_type": "code",
        "colab": {}
      },
      "source": [
        "BUFFER_SIZE = 10000\n",
        "BATCH_SIZE = 64"
      ],
      "execution_count": 11,
      "outputs": []
    },
    {
      "cell_type": "code",
      "metadata": {
        "id": "VwfocvSg8qJ5",
        "colab_type": "code",
        "colab": {}
      },
      "source": [
        "# batch and suffle the data\n",
        "\n",
        "train_dataset = train_dataset.shuffle(BUFFER_SIZE)\n",
        "train_dataset = train_dataset.padded_batch(BATCH_SIZE)\n",
        "\n",
        "test_dataset = test_dataset.padded_batch(BATCH_SIZE)"
      ],
      "execution_count": 12,
      "outputs": []
    },
    {
      "cell_type": "markdown",
      "metadata": {
        "id": "jgZtPpqgeQ5D",
        "colab_type": "text"
      },
      "source": [
        "## Create the model"
      ]
    },
    {
      "cell_type": "markdown",
      "metadata": {
        "id": "cmIT6xoIeTCz",
        "colab_type": "text"
      },
      "source": [
        "Build a tf.keras.Sequential model and start with an embedding layer. An embedding layer stores one vector per word. When called, it converts the sequences of word indices to sequences of vectors. These vectors are trainable. After training (on enough data), words with similar meanings often have similar vectors.\n",
        "\n",
        "This index-lookup is much more efficient than the equivalent operation of passing a one-hot encoded vector through a tf.keras.layers.Dense layer.\n",
        "\n",
        "A recurrent neural network (RNN) processes sequence input by iterating through the elements. RNNs pass the outputs from one timestep to their input—and then to the next.\n",
        "\n",
        "The tf.keras.layers.Bidirectional wrapper can also be used with an RNN layer. This propagates the input forward and backwards through the RNN layer and then concatenates the output. This helps the RNN to learn long range dependencies."
      ]
    },
    {
      "cell_type": "code",
      "metadata": {
        "id": "SZdMaChLjfSo",
        "colab_type": "code",
        "colab": {}
      },
      "source": [
        "    # embedding layer\n",
        "    # LSTM(64)\n",
        "    # dense layer + relu\n",
        "    # activation functiontf.keras.layers.Dense(1, activation='sigmoid')\n",
        "\n",
        "model = tf.keras.Sequential([\n",
        "    tf.keras.layers.Embedding(tokenizer.vocab_size, 64),\n",
        "    tf.keras.layers.Bidirectional(tf.keras.layers.LSTM(64)),\n",
        "    tf.keras.layers.Dense(64, activation='relu'),\n",
        "    tf.keras.layers.Dense(1)\n",
        "    #tf.keras.layers.Dense(1, activation='sigmoid')\n",
        "])"
      ],
      "execution_count": 13,
      "outputs": []
    },
    {
      "cell_type": "markdown",
      "metadata": {
        "id": "RSfbv-87j2r6",
        "colab_type": "text"
      },
      "source": [
        "Compile the Keras model to configure the training process using the appropriate loss function and the adam optimizer. The main metric of intrest for compilation should be the accuracy of classification:"
      ]
    },
    {
      "cell_type": "code",
      "metadata": {
        "id": "LalckLoZj3Oy",
        "colab_type": "code",
        "colab": {}
      },
      "source": [
        "\n",
        "model.compile(loss=tf.keras.losses.BinaryCrossentropy(from_logits=True),\n",
        "              optimizer=tf.keras.optimizers.Adam(1e-4),\n",
        "              metrics=['accuracy'])"
      ],
      "execution_count": 14,
      "outputs": []
    },
    {
      "cell_type": "markdown",
      "metadata": {
        "id": "T6rU0IIIkMOJ",
        "colab_type": "text"
      },
      "source": [
        "## Train the model"
      ]
    },
    {
      "cell_type": "code",
      "metadata": {
        "id": "-EGqwdrBkMiL",
        "colab_type": "code",
        "colab": {
          "base_uri": "https://localhost:8080/",
          "height": 389
        },
        "outputId": "6f6d2881-25e9-41c4-ec2e-3c60d8b3c5c2"
      },
      "source": [
        "history = model.fit(train_dataset, epochs=10,\n",
        "                    validation_data=test_dataset, validation_steps=30)"
      ],
      "execution_count": 15,
      "outputs": [
        {
          "output_type": "stream",
          "text": [
            "Epoch 1/10\n",
            "391/391 [==============================] - 43s 111ms/step - loss: 0.6578 - accuracy: 0.5453 - val_loss: 0.4725 - val_accuracy: 0.7833\n",
            "Epoch 2/10\n",
            "391/391 [==============================] - 43s 109ms/step - loss: 0.3633 - accuracy: 0.8429 - val_loss: 0.3560 - val_accuracy: 0.8411\n",
            "Epoch 3/10\n",
            "391/391 [==============================] - 43s 110ms/step - loss: 0.2578 - accuracy: 0.8997 - val_loss: 0.3298 - val_accuracy: 0.8604\n",
            "Epoch 4/10\n",
            "391/391 [==============================] - 43s 109ms/step - loss: 0.2187 - accuracy: 0.9175 - val_loss: 0.3435 - val_accuracy: 0.8641\n",
            "Epoch 5/10\n",
            "391/391 [==============================] - 43s 110ms/step - loss: 0.1890 - accuracy: 0.9314 - val_loss: 0.3672 - val_accuracy: 0.8750\n",
            "Epoch 6/10\n",
            "391/391 [==============================] - 43s 110ms/step - loss: 0.1717 - accuracy: 0.9382 - val_loss: 0.3808 - val_accuracy: 0.8604\n",
            "Epoch 7/10\n",
            "391/391 [==============================] - 43s 110ms/step - loss: 0.1526 - accuracy: 0.9477 - val_loss: 0.3727 - val_accuracy: 0.8620\n",
            "Epoch 8/10\n",
            "391/391 [==============================] - 43s 111ms/step - loss: 0.1368 - accuracy: 0.9544 - val_loss: 0.3847 - val_accuracy: 0.8521\n",
            "Epoch 9/10\n",
            "391/391 [==============================] - 43s 110ms/step - loss: 0.1288 - accuracy: 0.9580 - val_loss: 0.4023 - val_accuracy: 0.8583\n",
            "Epoch 10/10\n",
            "391/391 [==============================] - 43s 111ms/step - loss: 0.1185 - accuracy: 0.9617 - val_loss: 0.5243 - val_accuracy: 0.8318\n"
          ],
          "name": "stdout"
        }
      ]
    },
    {
      "cell_type": "code",
      "metadata": {
        "id": "2S5XipuDkOSh",
        "colab_type": "code",
        "colab": {
          "base_uri": "https://localhost:8080/",
          "height": 70
        },
        "outputId": "5a3798c7-5980-43e5-8852-e45df29ff7a9"
      },
      "source": [
        "test_loss, test_acc = model.evaluate(test_dataset)\n",
        "\n",
        "print('Test Loss: {}'.format(test_loss))\n",
        "print('Test Accuracy: {}'.format(test_acc))"
      ],
      "execution_count": 16,
      "outputs": [
        {
          "output_type": "stream",
          "text": [
            "391/391 [==============================] - 19s 49ms/step - loss: 0.5389 - accuracy: 0.8337\n",
            "Test Loss: 0.5388699769973755\n",
            "Test Accuracy: 0.8336799740791321\n"
          ],
          "name": "stdout"
        }
      ]
    },
    {
      "cell_type": "markdown",
      "metadata": {
        "id": "Hq6cxGAtkP1Z",
        "colab_type": "text"
      },
      "source": [
        "The above model does not mask the padding applied to the sequences. This can lead to skewness if we train on padded sequences and test on un-padded sequences. Ideally the model would learn to ignore the padding, but as you can see below it does have a small effect on the output.\n",
        "\n",
        "If the prediction is >= 0.5, it is positive else it is negative."
      ]
    },
    {
      "cell_type": "code",
      "metadata": {
        "id": "TPT7WevkkRjx",
        "colab_type": "code",
        "colab": {}
      },
      "source": [
        "def pad_to_size(vec, size):\n",
        "  zeros = [0] * (size - len(vec))\n",
        "  vec.extend(zeros)\n",
        "  return vec"
      ],
      "execution_count": 17,
      "outputs": []
    },
    {
      "cell_type": "code",
      "metadata": {
        "id": "8_4IvxCom1B0",
        "colab_type": "code",
        "colab": {}
      },
      "source": [
        "def sample_predict(sentence, pad):\n",
        "  tokenized_sample_pred_text = tokenizer.encode(sample_pred_text)\n",
        "\n",
        "  if pad:\n",
        "    tokenized_sample_pred_text = pad_to_size(tokenized_sample_pred_text, 64)\n",
        "\n",
        "  predictions = model.predict(tf.expand_dims(tokenized_sample_pred_text, 0))\n",
        "\n",
        "  return (predictions)"
      ],
      "execution_count": 18,
      "outputs": []
    },
    {
      "cell_type": "code",
      "metadata": {
        "id": "T4L-Yy64m3Ix",
        "colab_type": "code",
        "colab": {
          "base_uri": "https://localhost:8080/",
          "height": 34
        },
        "outputId": "40f09848-b230-484e-88a9-641133b0d2e5"
      },
      "source": [
        "# predict on a sample text without padding.\n",
        "\n",
        "sample_pred_text = ('The movie was cool. The animation and the graphics '\n",
        "                    'were out of this world. I would recommend this movie.')\n",
        "predictions = sample_predict(sample_pred_text, pad=False)\n",
        "print (predictions)"
      ],
      "execution_count": 19,
      "outputs": [
        {
          "output_type": "stream",
          "text": [
            "[[-0.51335657]]\n"
          ],
          "name": "stdout"
        }
      ]
    },
    {
      "cell_type": "code",
      "metadata": {
        "id": "EcKFnYTym62B",
        "colab_type": "code",
        "colab": {
          "base_uri": "https://localhost:8080/",
          "height": 34
        },
        "outputId": "b7e0f5a5-3a93-403e-d35d-b26330da279d"
      },
      "source": [
        "# predict on a sample text with padding\n",
        "\n",
        "sample_pred_text = ('The movie was cool. The animation and the graphics '\n",
        "                    'were out of this world. I would recommend this movie.')\n",
        "predictions = sample_predict(sample_pred_text, pad=True)\n",
        "print(predictions)"
      ],
      "execution_count": 21,
      "outputs": [
        {
          "output_type": "stream",
          "text": [
            "[[-0.57072765]]\n"
          ],
          "name": "stdout"
        }
      ]
    },
    {
      "cell_type": "code",
      "metadata": {
        "id": "vBO5gVW6m9Y6",
        "colab_type": "code",
        "colab": {
          "base_uri": "https://localhost:8080/",
          "height": 279
        },
        "outputId": "bd51c4db-a46f-412c-e01c-3328275bbbdd"
      },
      "source": [
        "plot_graphs(history, 'accuracy')"
      ],
      "execution_count": 22,
      "outputs": [
        {
          "output_type": "display_data",
          "data": {
            "image/png": "[encoded data removed]",
            "text/plain": [
              "<Figure size 432x288 with 1 Axes>"
            ]
          },
          "metadata": {
            "tags": [],
            "needs_background": "light"
          }
        }
      ]
    },
    {
      "cell_type": "code",
      "metadata": {
        "id": "QXR2QTkim-gZ",
        "colab_type": "code",
        "colab": {
          "base_uri": "https://localhost:8080/",
          "height": 279
        },
        "outputId": "cce074a3-16af-436a-a402-909507f62cdc"
      },
      "source": [
        "plot_graphs(history, 'loss')"
      ],
      "execution_count": 23,
      "outputs": [
        {
          "output_type": "display_data",
          "data": {
            "image/png": "[encoded data removed]",
            "text/plain": [
              "<Figure size 432x288 with 1 Axes>"
            ]
          },
          "metadata": {
            "tags": [],
            "needs_background": "light"
          }
        }
      ]
    },
    {
      "cell_type": "markdown",
      "metadata": {
        "id": "wl__g8n6m_lR",
        "colab_type": "text"
      },
      "source": [
        "## Stack two or more LSTM layers\n",
        "\n",
        "Keras recurrent layers have two available modes that are controlled by the `return_sequences` constructor argument:\n",
        "\n",
        "* Return either the full sequences of successive outputs for each timestep (a 3D tensor of shape `(batch_size, timesteps, output_features)`).\n",
        "* Return only the last output for each input sequence (a 2D tensor of shape (batch_size, output_features))."
      ]
    },
    {
      "cell_type": "code",
      "metadata": {
        "id": "TWZ39QpxnBqB",
        "colab_type": "code",
        "colab": {}
      },
      "source": [
        "# redefine the model by stacking two or more LSTM layers\n",
        "\n",
        "    # embedding layer\n",
        "    # stacked LSTM layers\n",
        "    # dense layer\n",
        "\n",
        "\n",
        "model = tf.keras.Sequential([\n",
        "    tf.keras.layers.Embedding(tokenizer.vocab_size, 64),\n",
        "    tf.keras.layers.Bidirectional(tf.keras.layers.LSTM(64,  return_sequences=True)),\n",
        "    tf.keras.layers.Bidirectional(tf.keras.layers.LSTM(32)),\n",
        "    tf.keras.layers.Dense(64, activation='relu'),\n",
        "    tf.keras.layers.Dropout(0.5),\n",
        "    tf.keras.layers.Dense(1)\n",
        "])"
      ],
      "execution_count": 24,
      "outputs": []
    },
    {
      "cell_type": "code",
      "metadata": {
        "id": "FYO-HQ4ancIZ",
        "colab_type": "code",
        "colab": {}
      },
      "source": [
        "model.compile(loss=tf.keras.losses.BinaryCrossentropy(from_logits=True),\n",
        "              optimizer=tf.keras.optimizers.Adam(1e-4),\n",
        "              metrics=['accuracy'])"
      ],
      "execution_count": 25,
      "outputs": []
    },
    {
      "cell_type": "code",
      "metadata": {
        "id": "if3v2pHZnccw",
        "colab_type": "code",
        "colab": {
          "base_uri": "https://localhost:8080/",
          "height": 389
        },
        "outputId": "05fb7cf6-18b0-45b0-f002-758ce9f2af10"
      },
      "source": [
        "history = model.fit(train_dataset, epochs=10,\n",
        "                    validation_data=test_dataset)"
      ],
      "execution_count": 26,
      "outputs": [
        {
          "output_type": "stream",
          "text": [
            "Epoch 1/10\n",
            "391/391 [==============================] - 105s 268ms/step - loss: 0.6331 - accuracy: 0.5880 - val_loss: 0.4497 - val_accuracy: 0.8092\n",
            "Epoch 2/10\n",
            "391/391 [==============================] - 104s 267ms/step - loss: 0.3550 - accuracy: 0.8575 - val_loss: 0.3415 - val_accuracy: 0.8490\n",
            "Epoch 3/10\n",
            "391/391 [==============================] - 105s 269ms/step - loss: 0.2634 - accuracy: 0.9007 - val_loss: 0.3434 - val_accuracy: 0.8546\n",
            "Epoch 4/10\n",
            "391/391 [==============================] - 105s 267ms/step - loss: 0.2128 - accuracy: 0.9289 - val_loss: 0.3752 - val_accuracy: 0.8372\n",
            "Epoch 5/10\n",
            "391/391 [==============================] - 103s 264ms/step - loss: 0.1810 - accuracy: 0.9419 - val_loss: 0.3685 - val_accuracy: 0.8490\n",
            "Epoch 6/10\n",
            "391/391 [==============================] - 104s 265ms/step - loss: 0.1567 - accuracy: 0.9538 - val_loss: 0.4197 - val_accuracy: 0.8673\n",
            "Epoch 7/10\n",
            "391/391 [==============================] - 104s 267ms/step - loss: 0.1334 - accuracy: 0.9616 - val_loss: 0.4453 - val_accuracy: 0.8645\n",
            "Epoch 8/10\n",
            "391/391 [==============================] - 104s 266ms/step - loss: 0.1168 - accuracy: 0.9688 - val_loss: 0.4707 - val_accuracy: 0.8505\n",
            "Epoch 9/10\n",
            "391/391 [==============================] - 105s 268ms/step - loss: 0.1008 - accuracy: 0.9747 - val_loss: 0.4891 - val_accuracy: 0.8493\n",
            "Epoch 10/10\n",
            "391/391 [==============================] - 104s 267ms/step - loss: 0.0938 - accuracy: 0.9769 - val_loss: 0.5541 - val_accuracy: 0.8403\n"
          ],
          "name": "stdout"
        }
      ]
    },
    {
      "cell_type": "code",
      "metadata": {
        "id": "Nm0KsyHcnmkp",
        "colab_type": "code",
        "colab": {
          "base_uri": "https://localhost:8080/",
          "height": 70
        },
        "outputId": "fe708bd1-39c7-4cc8-9636-b8573f98ad61"
      },
      "source": [
        "test_loss, test_acc = model.evaluate(test_dataset)\n",
        "\n",
        "print('Test Loss: {}'.format(test_loss))\n",
        "print('Test Accuracy: {}'.format(test_acc))"
      ],
      "execution_count": 27,
      "outputs": [
        {
          "output_type": "stream",
          "text": [
            "391/391 [==============================] - 34s 86ms/step - loss: 0.5541 - accuracy: 0.8403\n",
            "Test Loss: 0.5540565252304077\n",
            "Test Accuracy: 0.8403199911117554\n"
          ],
          "name": "stdout"
        }
      ]
    },
    {
      "cell_type": "code",
      "metadata": {
        "id": "EpLOtAJsnm0A",
        "colab_type": "code",
        "colab": {
          "base_uri": "https://localhost:8080/",
          "height": 34
        },
        "outputId": "c918e21c-41ae-4cf8-bc8d-9d5f876f2aa0"
      },
      "source": [
        "# predict on a sample text without padding.\n",
        "\n",
        "sample_pred_text = ('The movie was not good. The animation and the graphics '\n",
        "                    'were terrible. I would not recommend this movie.')\n",
        "predictions = sample_predict(sample_pred_text, pad=False)\n",
        "print (predictions)"
      ],
      "execution_count": 28,
      "outputs": [
        {
          "output_type": "stream",
          "text": [
            "[[-2.7647223]]\n"
          ],
          "name": "stdout"
        }
      ]
    },
    {
      "cell_type": "code",
      "metadata": {
        "id": "uA6MAu2vnosZ",
        "colab_type": "code",
        "colab": {
          "base_uri": "https://localhost:8080/",
          "height": 34
        },
        "outputId": "87693c8b-c654-45ae-a47b-23f6fdb6e281"
      },
      "source": [
        "# predict on a sample text with padding\n",
        "\n",
        "sample_pred_text = ('The movie was not good. The animation and the graphics '\n",
        "                    'were terrible. I would not recommend this movie.')\n",
        "predictions = sample_predict(sample_pred_text, pad=True)\n",
        "print(predictions)"
      ],
      "execution_count": 33,
      "outputs": [
        {
          "output_type": "stream",
          "text": [
            "[[-4.287075]]\n"
          ],
          "name": "stdout"
        }
      ]
    },
    {
      "cell_type": "code",
      "metadata": {
        "id": "IZh6gPD5npz5",
        "colab_type": "code",
        "colab": {
          "base_uri": "https://localhost:8080/",
          "height": 279
        },
        "outputId": "14656401-68df-426a-cf4c-d0ea8a680859"
      },
      "source": [
        "plot_graphs(history, 'accuracy')"
      ],
      "execution_count": 32,
      "outputs": [
        {
          "output_type": "display_data",
          "data": {
            "image/png": "[encoded data removed]",
            "text/plain": [
              "<Figure size 432x288 with 1 Axes>"
            ]
          },
          "metadata": {
            "tags": [],
            "needs_background": "light"
          }
        }
      ]
    },
    {
      "cell_type": "code",
      "metadata": {
        "id": "KDlXZkdunrBx",
        "colab_type": "code",
        "colab": {
          "base_uri": "https://localhost:8080/",
          "height": 279
        },
        "outputId": "2061dfc8-eebb-4323-fc1a-5d02ac326b06"
      },
      "source": [
        "plot_graphs(history, 'loss')"
      ],
      "execution_count": 31,
      "outputs": [
        {
          "output_type": "display_data",
          "data": {
            "image/png": "[encoded data removed]",
            "text/plain": [
              "<Figure size 432x288 with 1 Axes>"
            ]
          },
          "metadata": {
            "tags": [],
            "needs_background": "light"
          }
        }
      ]
    }
  ]
}