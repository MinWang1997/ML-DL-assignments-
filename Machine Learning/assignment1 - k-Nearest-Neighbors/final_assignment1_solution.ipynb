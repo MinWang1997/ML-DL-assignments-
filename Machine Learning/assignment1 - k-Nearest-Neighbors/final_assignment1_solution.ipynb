{
 "cells": [
  {
   "cell_type": "markdown",
   "metadata": {},
   "source": [
    "# Assignment 1: k-nearest neighbors\n",
    "\n",
    "Only use the already imported libraries `numpy` and `matplotlib.pyplot` for the assignment. Do not import any other library. "
   ]
  },
  {
   "cell_type": "markdown",
   "metadata": {},
   "source": [
    "<h3>\n",
    "\n",
    "Min Wang 3440557\n",
    "\n",
    "Stoyan Dimitrov 3460278\n",
    "\n",
    "Dominik Sellenthin 2836308</h3>\n",
    "\n",
    "<h5>Note ：</h5>  We wish to present task1 and task2. If the solution of task3 is correct, we can also present task3."
   ]
  },
  {
   "cell_type": "code",
   "execution_count": 10,
   "metadata": {},
   "outputs": [],
   "source": [
    "# Load required packages and dataset. Do not modify.\n",
    "import matplotlib.pyplot as plt\n",
    "import numpy as np\n",
    "\n",
    "\n",
    "def load_iris_dataset():\n",
    "    from sklearn import datasets\n",
    "    iris = datasets.load_iris()\n",
    "    X = iris.data\n",
    "    y = iris.target\n",
    "    return X, y\n",
    "    \n",
    "X, y = load_iris_dataset()"
   ]
  },
  {
   "cell_type": "markdown",
   "metadata": {},
   "source": [
    "## Task 1: Visualization and Preprocessing\n",
    "\n",
    "1) Explain the content of the dataset in few words. What are the input features? What is the classification target? Check out: [https://en.wikipedia.org/wiki/Iris_flower_data_set](https://en.wikipedia.org/wiki/Iris_flower_data_set).\n"
   ]
  },
  {
   "cell_type": "markdown",
   "metadata": {},
   "source": [
    "==> *Write your response here* (double klick here to edit)\n",
    "Input features:        four numeric features: the sepal length, the sepal width, the petal length and the petal width, type: float\n",
    "Classification target: three nominal class (three species of Iris (Iris setosa, Iris virginica and Iris versicolor)), labels are int64:0,1,2"
   ]
  },
  {
   "cell_type": "markdown",
   "metadata": {},
   "source": [
    "2) Compute and print the following statistics about the dataset:\n",
    "  - Number of samples\n",
    "  - Number of samples per class\n",
    "  - Mean and standard deviation for each input feature\n"
   ]
  },
  {
   "cell_type": "code",
   "execution_count": 11,
   "metadata": {},
   "outputs": [
    {
     "name": "stdout",
     "output_type": "stream",
     "text": [
      "Number of samples is: 150\n",
      "Number of samples class 0 is: 50\n",
      "Number of samples class 1 is: 50\n",
      "Number of samples class 2 is: 50\n",
      "Means of each feature are:  [5.843 3.057 3.758 1.199]\n",
      "Standard deviation of each feature are:  [0.825 0.434 1.759 0.76 ]\n"
     ]
    }
   ],
   "source": [
    "# Implement your solution here.\n",
    "num_sample = X.shape[0]               # Number of samples\n",
    "num_sample_per_class_0 = np.sum(y==0) # Number of samples per class\n",
    "num_sample_per_class_1 = np.sum(y==1)\n",
    "num_sample_per_class_2 = np.sum(y==2)\n",
    "mean_features = np.mean(X, axis=0)    # Mean and standard deviation for each input feature\n",
    "st_deviations = np.std(X, axis=0)\n",
    "\n",
    "print(\"Number of samples is: %d\" % num_sample)\n",
    "print(\"Number of samples class 0 is: %d\" % num_sample_per_class_0)\n",
    "print(\"Number of samples class 1 is: %d\" % num_sample_per_class_1)\n",
    "print(\"Number of samples class 2 is: %d\" % num_sample_per_class_2)\n",
    "print(\"Means of each feature are: \", np.around(mean_features, 3))\n",
    "print(\"Standard deviation of each feature are: \", np.around(st_deviations, 3))"
   ]
  },
  {
   "cell_type": "markdown",
   "metadata": {},
   "source": [
    "3) Visualize the variables Sepal length and Petal length in a scatter plot (Sepal length on the x-axis, petal length on the y-axis). Color each point of the plot according to its class."
   ]
  },
  {
   "cell_type": "code",
   "execution_count": 12,
   "metadata": {},
   "outputs": [
    {
     "data": {
      "image/png": "[encoded data removed]",
      "text/plain": [
       "<Figure size 432x288 with 1 Axes>"
      ]
     },
     "metadata": {
      "needs_background": "light"
     },
     "output_type": "display_data"
    }
   ],
   "source": [
    "# Implement your solution here.\n",
    "sepal_lengths = [X[y==0, 0], X[y==1, 0], X[y==2, 0]]\n",
    "petal_lengths = [X[y==0, 2], X[y==1, 2], X[y==2, 2]]\n",
    "\n",
    "fig = plt.figure()\n",
    "ax = plt.subplot()\n",
    "a1 = ax.scatter(sepal_lengths[0], petal_lengths[0], c='green')\n",
    "a2 = ax.scatter(sepal_lengths[1], petal_lengths[1], c='blue')\n",
    "a3 = ax.scatter(sepal_lengths[2], petal_lengths[2], c='red')\n",
    "plt.xlabel('Sepal length (cm)')\n",
    "plt.ylabel('Petal length (cm)')\n",
    "sp_labels = ['class 0', 'class 1', 'class 2']\n",
    "plt.legend(handles=[a1, a2, a3],labels=sp_labels)\n",
    "plt.show()"
   ]
  },
  {
   "cell_type": "markdown",
   "metadata": {},
   "source": [
    "4) Split the dataset randomly into training and test data. 70% of data should be used for training and 30% should be used for testing. Implement the function `train_test_split`. Do not modify the interface of the function."
   ]
  },
  {
   "cell_type": "code",
   "execution_count": 13,
   "metadata": {},
   "outputs": [],
   "source": [
    "def train_test_split(X, y):\n",
    "    \"\"\"\n",
    "    Returns X_train, X_test, y_train, y_test, \n",
    "        where X_train and X_test are the input features of the training and test set,\n",
    "        and y_train and y_test are the class labels of the training and test set.\n",
    "    \"\"\"\n",
    "    # Implement your solution here.\n",
    "    test_split = 0.3                \n",
    "    sample_size = X.shape[0]\n",
    "    test_size = int(sample_size * test_split)\n",
    "\n",
    "    indices = np.arange(sample_size)\n",
    "    np.random.shuffle(indices)\n",
    "    \n",
    "    X_test = X[indices[:test_size], :]\n",
    "    y_test = y[indices[:test_size]]\n",
    "    X_train = X[indices[test_size:], :]\n",
    "    y_train = y[indices[test_size:]]\n",
    "\n",
    "    return X_train, X_test, y_train, y_test\n",
    "\n",
    "np.random.seed(46)\n",
    "X_train, X_test, y_train, y_test = train_test_split(X, y)\n",
    "\n",
    "assert (X_train.shape[0] + X_test.shape[0]) == X.shape[0]\n",
    "assert (y_train.shape[0] + y_test.shape[0]) == y.shape[0]\n",
    "assert X_train.shape[1] == X_test.shape[1]"
   ]
  },
  {
   "cell_type": "markdown",
   "metadata": {},
   "source": [
    "5) kNN uses a distance measure to identify close neighbors. If the input features are not of the same scale, the distance is not as meaningful, which can negatively impact classification performance. Perform min-max scaling (i.e. scale the values of the input features in such a way that their range is from 0 to 1) on the training and test data. Remember that you should only use information from the training data to perform the scaling on both data sets."
   ]
  },
  {
   "cell_type": "code",
   "execution_count": 14,
   "metadata": {},
   "outputs": [
    {
     "name": "stdout",
     "output_type": "stream",
     "text": [
      "[[4.4 2.  1.  0.1]]\n"
     ]
    }
   ],
   "source": [
    "# Implement your solution here\n",
    "X_train_min = np.amin(X_train, axis=0).reshape(1, -1)\n",
    "X_train_max = np.amax(X_train, axis=0).reshape(1, -1)\n",
    "print(X_train_min)\n",
    "X_train = (X_train - X_train_min) / (X_train_max - X_train_min)\n",
    "X_test = (X_test - X_train_min) / (X_train_max - X_train_min)"
   ]
  },
  {
   "cell_type": "markdown",
   "metadata": {},
   "source": [
    "## Task 2: k-nearest neighbors\n",
    "\n",
    "**For B.Sc. Data Science:**  \n",
    "Implement the kNN algorithm with uniform weighting and arbitrary `k`. Fill out the `predict` method of class `KNearestNeighborsClassifier`. \n",
    "\n",
    "You can ignore the optional parameter `distance_metric`, which is provided as a field in the kNN class.\n",
    "\n",
    "**For everyone else:**  \n",
    "Implement the kNN algorithm with distance-based weighting and arbitrary `k`.\n",
    "Fill out the `predict` method of class `KNearestNeighborsClassifier`.\n",
    "\n",
    "The parameter `distance_metric` will either contain the string `uniform` or a function. If the value is `uniform`, the classifier should use uniform weighting. If the value is a function, the classifier should use the function as distance metric and perform distance-weighted classification. An example distance metric is provided with `euclidean_distance`."
   ]
  },
  {
   "cell_type": "code",
   "execution_count": 15,
   "metadata": {},
   "outputs": [],
   "source": [
    "class KNearestNeighbors(object):\n",
    "    def __init__(self, k, distance_metric='uniform'):\n",
    "        self.k = k\n",
    "        self.distance_metric = distance_metric\n",
    "        \n",
    "    def fit(self, X, y):\n",
    "        \"\"\"\n",
    "        This functions saves the training data to be used during the prediction.\n",
    "        \"\"\"\n",
    "        self.X = X\n",
    "        self.y = y\n",
    "    \n",
    "    def predict(self, X):\n",
    "        \"\"\"\n",
    "        Returns a vector of shape (n,) if X has shape (n,k).\n",
    "        \"\"\"\n",
    "        # Implement your solution here.\n",
    "        dataset_size = self.X.shape[0]\n",
    "        y_pred = np.ones(X.shape[0])\n",
    "        for test_i in range(X.shape[0]):\n",
    "            distance = euclidean_distance(np.tile(X[test_i, :].reshape(1,-1), (dataset_size, 1)), self.X)\n",
    "            sort_distance_index = distance.argsort()\n",
    "            \n",
    "            class_counted = {}\n",
    "            \n",
    "            w_i = 1\n",
    "            for i in range(self.k):\n",
    "                if(self.distance_metric == 'euclidean'):\n",
    "                    if distance[sort_distance_index[i]] == 0:\n",
    "                        w_i = 9999.9\n",
    "                    w_i = 1.0 / distance[sort_distance_index[i]]\n",
    "                vote_i_label = self.y[sort_distance_index[i]]\n",
    "                class_counted[vote_i_label] = class_counted.get(vote_i_label, 0) + w_i  # weight\n",
    "            \n",
    "            sort_class_counted = sorted(class_counted.items(), key=lambda f:f[1], reverse=True)\n",
    "               \n",
    "            y_pred[test_i] = sort_class_counted[0][0]\n",
    "            \n",
    "            \n",
    "        return y_pred\n",
    "\n",
    "    \n",
    "def euclidean_distance(x1, x2):\n",
    "    \"\"\"\n",
    "    Given vectors x1 and x2 with shape (n,) returns distance between vectors as float.\n",
    "    \"\"\"\n",
    "    return np.sqrt(np.sum((x1 - x2)*(x1 - x2), axis=1))"
   ]
  },
  {
   "cell_type": "markdown",
   "metadata": {},
   "source": [
    "## Task 3: Evaluation\n",
    "\n",
    "1) Implement functions to compute precision, recall and F1-score. `y_pred` and `y_true` are the vectors of predicted and true class labels respectively with shape `(n,)`, where `n` is the number of samples. Each function should return a float containing the corresponding score."
   ]
  },
  {
   "cell_type": "code",
   "execution_count": 16,
   "metadata": {},
   "outputs": [],
   "source": [
    "# i just don't want to change the structure...\n",
    "def precision(y_pred, y_true):\n",
    "    # Implement your solution here.\n",
    "    # average precision for all class\n",
    "    y_labels = [0, 1, 2]\n",
    "    pre_sum = 0\n",
    "    for y_label_i in y_labels:\n",
    "        tp_ = ((y_pred==y_label_i)&(y_true==y_label_i)).sum()\n",
    "        fp_ = ((y_pred==y_label_i)&(y_true!=y_label_i)).sum()\n",
    "        fn_ = ((y_pred!=y_label_i)&(y_true==y_label_i)).sum()\n",
    "        tn_ = ((y_pred!=y_label_i)&(y_true!=y_label_i)).sum()\n",
    "        pre_sum += (tp_ / (tp_ + fp_))\n",
    "    return pre_sum / len(y_labels)\n",
    "        \n",
    "def recall(y_pred, y_true):\n",
    "    # Implement your solution here.\n",
    "    # average precision for all class\n",
    "    y_labels = [0, 1, 2]\n",
    "    rec_sum = 0\n",
    "    for y_label_i in y_labels:\n",
    "        tp_ = ((y_pred==y_label_i)&(y_true==y_label_i)).sum()\n",
    "        fp_ = ((y_pred==y_label_i)&(y_true!=y_label_i)).sum()\n",
    "        fn_ = ((y_pred!=y_label_i)&(y_true==y_label_i)).sum()\n",
    "        tn_ = ((y_pred!=y_label_i)&(y_true!=y_label_i)).sum()\n",
    "        rec_sum += (tp_ / (tp_ + fn_))\n",
    "    return rec_sum / len(y_labels)\n",
    "\n",
    "def f1score(y_pred, y_true):\n",
    "    # Implement your solution here.\n",
    "    # average precision for all class\n",
    "    y_labels = [0, 1, 2]\n",
    "    f_sum = 0\n",
    "    for y_label_i in y_labels:\n",
    "        tp_ = ((y_pred==y_label_i)&(y_true==y_label_i)).sum()\n",
    "        fp_ = ((y_pred==y_label_i)&(y_true!=y_label_i)).sum()\n",
    "        fn_ = ((y_pred!=y_label_i)&(y_true==y_label_i)).sum()\n",
    "        tn_ = ((y_pred!=y_label_i)&(y_true!=y_label_i)).sum()\n",
    "        f_sum += 2*tp_ / (2*tp_ + fn_ + fp_ )\n",
    "    return f_sum / len(y_labels)"
   ]
  },
  {
   "cell_type": "markdown",
   "metadata": {},
   "source": [
    "2) Evaluate the performance of kNN with uniform weighting on the Iris dataset for `k=1,3,5`. Train each of the `3` classifiers on the training data from Task 1. Perform the predictions on both the training and test data. Then compute precision, recall, and F1-score for each model and for both training and test data. Print all scores per model. What do you observe?\n",
    "\n",
    "**For all students other than B.Sc. Data Science:** \n",
    "Evaluate the kNN classifier with Euclidean distance-weighting. Compare the performance to uniform-weighting. How does the performance change compared to uniform weighting for each `k`?"
   ]
  },
  {
   "cell_type": "code",
   "execution_count": 17,
   "metadata": {},
   "outputs": [
    {
     "name": "stdout",
     "output_type": "stream",
     "text": [
      "uniform_k_1_results: precision:0.907692, recall:0.907692, f1_score:0.904762\n",
      "uniform_k_3_results: precision:0.907692, recall:0.907692, f1_score:0.904762\n",
      "uniform_k_5_results: precision:0.880952, recall:0.882051, f1_score:0.880800\n",
      "euclidean_k_1_results: precision:0.907692, recall:0.907692, f1_score:0.904762\n",
      "euclidean_k_3_results: precision:0.907692, recall:0.907692, f1_score:0.904762\n",
      "euclidean_k_5_results: precision:0.880952, recall:0.882051, f1_score:0.880800\n"
     ]
    },
    {
     "name": "stderr",
     "output_type": "stream",
     "text": [
      "/Library/Frameworks/Python.framework/Versions/3.6/lib/python3.6/site-packages/ipykernel_launcher.py:31: RuntimeWarning: divide by zero encountered in double_scalars\n"
     ]
    }
   ],
   "source": [
    "# Implement your solution here.\n",
    "def evaluation(data, k=1, w='uniform'):\n",
    "    X_train, X_test, y_train, y_test = data\n",
    "    clf = KNearestNeighbors(k=k, distance_metric=w)\n",
    "    clf.fit(X_train, y_train)\n",
    "    y_pred = clf.predict(X_test)\n",
    "    precision_value = precision(y_pred, y_test)\n",
    "    recall_value = recall(y_pred, y_test)\n",
    "    f1_value = f1score(y_pred, y_test)\n",
    "    \n",
    "    return [precision_value, recall_value, f1_value]\n",
    "    \n",
    "data = X_train, X_test, y_train, y_test\n",
    "# Uniform --- k = 1\n",
    "uniform_k_1_results = evaluation(data, k=1, w='uniform')\n",
    "print(\"uniform_k_1_results: precision:%f, recall:%f, f1_score:%f\" % \n",
    "      (uniform_k_1_results[0], uniform_k_1_results[1], uniform_k_1_results[2]))\n",
    "\n",
    "# Uniform --- k = 3\n",
    "uniform_k_3_results = evaluation(data, k=3, w='uniform')\n",
    "print(\"uniform_k_3_results: precision:%f, recall:%f, f1_score:%f\" % \n",
    "      (uniform_k_3_results[0], uniform_k_3_results[1], uniform_k_3_results[2]))\n",
    "\n",
    "# Uniform --- k = 5\n",
    "uniform_k_5_results = evaluation(data, k=5, w='uniform')\n",
    "print(\"uniform_k_5_results: precision:%f, recall:%f, f1_score:%f\" % \n",
    "      (uniform_k_5_results[0], uniform_k_5_results[1], uniform_k_5_results[2]))\n",
    "\n",
    "# Euclidean --- k = 1\n",
    "euclidean_k_1_results = evaluation(data, k=1, w='euclidean')\n",
    "print(\"euclidean_k_1_results: precision:%f, recall:%f, f1_score:%f\" % \n",
    "      (euclidean_k_1_results[0], euclidean_k_1_results[1], euclidean_k_1_results[2]))\n",
    "\n",
    "# Euclidean --- k = 3\n",
    "euclidean_k_3_results = evaluation(data, k=3, w='euclidean')\n",
    "print(\"euclidean_k_3_results: precision:%f, recall:%f, f1_score:%f\" % \n",
    "      (euclidean_k_3_results[0], euclidean_k_3_results[1], euclidean_k_3_results[2]))\n",
    "\n",
    "# Euclidean --- k = 5\n",
    "euclidean_k_5_results = evaluation(data, k=5, w='euclidean')\n",
    "print(\"euclidean_k_5_results: precision:%f, recall:%f, f1_score:%f\" % \n",
    "      (euclidean_k_5_results[0], euclidean_k_5_results[1], euclidean_k_5_results[2]))"
   ]
  },
  {
   "cell_type": "markdown",
   "metadata": {},
   "source": [
    "k=5 seems to be too large for this task\n"
   ]
  },
  {
   "cell_type": "markdown",
   "metadata": {},
   "source": [
    "3) Explain why kNN with `k=1` achieves perfect results on the training data. Why is it not the best model?"
   ]
  },
  {
   "cell_type": "markdown",
   "metadata": {},
   "source": [
    "k=1 tested on the training data maps the test example exactly on themselves, achieving perfect score. But on new samples k=1 won't generalize well"
   ]
  },
  {
   "cell_type": "code",
   "execution_count": null,
   "metadata": {},
   "outputs": [],
   "source": []
  }
 ],
 "metadata": {
  "kernelspec": {
   "display_name": "Python 3",
   "language": "python",
   "name": "python3"
  },
  "language_info": {
   "codemirror_mode": {
    "name": "ipython",
    "version": 3
   },
   "file_extension": ".py",
   "mimetype": "text/x-python",
   "name": "python",
   "nbconvert_exporter": "python",
   "pygments_lexer": "ipython3",
   "version": "3.7.6"
  }
 },
 "nbformat": 4,
 "nbformat_minor": 4
}
