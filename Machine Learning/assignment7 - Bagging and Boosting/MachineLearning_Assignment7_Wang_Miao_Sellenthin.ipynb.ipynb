{
 "cells": [
  {
   "cell_type": "markdown",
   "metadata": {},
   "source": [
    "# Assignment 7: Bagging and Boosting\n",
    "\n",
    "Only use the already imported library `numpy`, `matplotlib` and the Python standard library. For the evaluation you may also use scikit-learn (`sklearn`). Make sure that the dataset `titanic.csv` is in the same directory as the notebook.\n",
    "\n",
    "List your team members (name and immatriculation number) and indicate whether you are a B.Sc. Data Science or other group in the following cell:"
   ]
  },
  {
   "cell_type": "markdown",
   "metadata": {},
   "source": [
    "<h3>\n",
    "\n",
    "Min Wang 3440557\n",
    "\n",
    "Sisi Miao 3377882\n",
    "    \n",
    "Dominik Sellenthin 2836308   \n",
    "    \n",
    "</h3>\n",
    "\n",
    "We are Master students.\n"
   ]
  },
  {
   "cell_type": "code",
   "execution_count": 4,
   "metadata": {},
   "outputs": [
    {
     "name": "stdout",
     "output_type": "stream",
     "text": [
      "(712, 15)\n",
      "[ 0.   20.    7.05  0.    0.    1.    0.    0.    0.    0.    1.    1.\n",
      "  0.    0.    1.  ]\n"
     ]
    }
   ],
   "source": [
    "# You are allowed to use the numpy package and the DecisionTreeClassifier.\n",
    "import matplotlib.pyplot as plt\n",
    "import numpy as np\n",
    "from sklearn.tree import DecisionTreeClassifier\n",
    "\n",
    "\n",
    "def load_dataset(path):\n",
    "    import pandas as pd\n",
    "    from sklearn.model_selection import train_test_split\n",
    "\n",
    "    df = pd.read_csv('titanic.csv')\n",
    "    # The feature engineering mostly follows the notebook by Manav Segal: https://www.kaggle.com/startupsci/titanic-data-science-solutions\n",
    "    # From the Name attribute we can extract titles, which gives insight about the social status/age/gender of the passenger.\n",
    "    df['Title'] = df['Name'].str.extract(' ([a-zA-Z]+)\\.', expand=False)\n",
    "    df['Title'] = df['Title'].replace(['Lady', 'Countess', 'Capt', 'Col', 'Don', 'Dr', 'Major', 'Rev', 'Sir', 'Jonkheer', 'Dona'], 'Rare')\n",
    "    df['Title'] = df['Title'].replace(['Mlle', 'Ms'], 'Miss')\n",
    "    df['Title'] = df['Title'].replace('Mme', 'Mrs')\n",
    "    # We map the Title attribute to a one-hot encoding.\n",
    "    df = df.join(pd.get_dummies(df['Title'], prefix='Title'))\n",
    "\n",
    "    # We map the Sex attribute to a numeric representation.\n",
    "    df['Sex'] = df['Sex'].map({'female': 1, 'male': 0}).astype(int)\n",
    "\n",
    "    # We one-hot encode Pclass.\n",
    "    df = df.join(pd.get_dummies(df['Pclass'], prefix='Pclass'))\n",
    "\n",
    "    # Based on the number of sibling-spouses in SibSp and parents-childern in Parch, \n",
    "    # we can determine whether a passenger was on board alone.\n",
    "    df['IsAlone'] = ((df['SibSp'] + df['Parch'] + 1) == 1).astype(int)\n",
    "\n",
    "    # We remove all attributes that do not seem relevant to the prediction, or are already encoded in another attribute.\n",
    "    df = df.drop(['PassengerId', 'Name', 'Title', 'Ticket', 'Cabin', 'Parch', 'SibSp'], axis=1)\n",
    "\n",
    "    # For remaining features, we have to separate train and test, \n",
    "    # as we will impute missing data based on statistics in the training data.\n",
    "    df_train, df_test = train_test_split(df, test_size=0.2, random_state=2020)\n",
    "    # For Embarked, we set all missing values to the most frequent port and then one-hot encode the attribute.\n",
    "    def impute_embarked():    \n",
    "        freq_port = df_train['Embarked'].dropna().mode()[0]\n",
    "        output = []\n",
    "        for df in (df_train, df_test):\n",
    "            df = df.join(pd.get_dummies(df['Embarked'].fillna(freq_port), prefix='Embarked'))\n",
    "            df = df.drop('Embarked', axis=1)\n",
    "            output.append(df)\n",
    "        return output\n",
    "\n",
    "    df_train, df_test = impute_embarked()\n",
    "\n",
    "    # For Age, we set missing values to the median dependent on the pair of Sex and Pclass.\n",
    "    guess_ages = np.zeros((2, 3))\n",
    "    for df in (df_train, df_test):\n",
    "        for i in range(2):\n",
    "            for j in range(3):\n",
    "                guess_ages[i, j] = df[(df['Sex'] == i) & (df['Pclass'] == j+1)]['Age'].dropna().median()\n",
    "        for i in range(2):\n",
    "            for j in range(3):\n",
    "                df.loc[(df['Age'].isnull()) & (df['Sex'] == i) & (df['Pclass'] == j+1), 'Age'] = guess_ages[i, j]\n",
    "        df['Age'] = df['Age'].astype(int)\n",
    "\n",
    "    df_train = df_train.drop(['Pclass'], axis=1)\n",
    "    df_test = df_test.drop(['Pclass'], axis=1)\n",
    "\n",
    "    X_train = df_train.values[:, 1:]\n",
    "    X_test = df_test.values[:, 1:]\n",
    "    y_train = df_train.values[:, 0]\n",
    "    y_test = df_test.values[:, 0]\n",
    "    \n",
    "    return X_train, X_test, y_train, y_test\n",
    "    \n",
    "X_train, X_test, y_train, y_test = load_dataset('titanic.csv')\n",
    "\n",
    "\n",
    "\n",
    "#print(X_train.shape)\n",
    "#print(X_train[0,:])"
   ]
  },
  {
   "cell_type": "code",
   "execution_count": 182,
   "metadata": {},
   "outputs": [
    {
     "name": "stdout",
     "output_type": "stream",
     "text": [
      "712\n"
     ]
    }
   ],
   "source": [
    "#print(X_train.shape[0])\n",
    "#print(y_train)"
   ]
  },
  {
   "cell_type": "markdown",
   "metadata": {},
   "source": [
    "The Titanic dataset and a description can be found at [Kaggle](https://www.kaggle.com/c/titanic/data). The feature engineering mostly follows the work by [Manav Segal](https://www.kaggle.com/startupsci/titanic-data-science-solutions). \n",
    "\n",
    "The prepared dataset contains the following attributes:\n",
    "- Sex: binary (0 = Male, 1 = Female)\n",
    "- Age: integer\n",
    "- Fare: float\n",
    "- Title_{Master, Miss, Mr, Mrs, Rare}: title of passenger (extracted from name), binary, one-hot encoding of categorical variable Title\n",
    "- Pclass_{1, 2, 3}: ticket class corresponds to socio-economic status (1 = upper class, 2 = middle class, 3 = lower class), binary, one-hot encoding of categorical variable Pclass\n",
    "- IsAlone: whether the passenger has no siblings/spouses/parents/children on board, binary\n",
    "- Embarked_{C, Q, S}: port at which passenger embarked (C = Cherbourg, Q = Queenstown, S = Southampton), binary, one-hot encoding of categorical variable Embarked\n",
    "\n",
    "The classification target is:\n",
    "- Survived: binary\n",
    "\n",
    "Data is split into train-test with a 80-20 ratio yielding 712 training and 179 test samples. Train and test data is stored in the variables `(X_train, y_train)` and `(X_test, y_test)` respectively."
   ]
  },
  {
   "cell_type": "markdown",
   "metadata": {},
   "source": [
    "## Task 1: Random Forest\n",
    "\n",
    "In this task, you will implement a random forest classifier using the scikit-learn implementation of the decision tree. \n",
    "\n",
    "Use bootstrap sampling and sample 20% of the original data set for each tree. Randomly select 6 attributes/columns for each trained tree. The prediction of each tree should be weighted equally in the majority vote. Use the already imported class `DecisionTreeClassifier` for your decision trees. You can find the decision tree documentation [here](https://scikit-learn.org/stable/modules/generated/sklearn.tree.DecisionTreeClassifier.html). You may use either the default parameters or experiment with different settings.\n",
    "\n",
    "You will evaluate your model on the test data using scikit-learn with the methods shown in the lecture ([precision, recall, F1-score](https://scikit-learn.org/stable/modules/generated/sklearn.metrics.precision_recall_fscore_support.html#sklearn.metrics.precision_recall_fscore_support), [confusion matrices](https://scikit-learn.org/stable/modules/generated/sklearn.metrics.confusion_matrix.html?highlight=confusion%20matrix#sklearn.metrics.confusion_matrix), ...). Try out different number of trees and compare the performance w.r.t. this parameter. Feel free to import any functions you need from scikit-learn for this purpose. \n"
   ]
  },
  {
   "cell_type": "code",
   "execution_count": 166,
   "metadata": {},
   "outputs": [],
   "source": [
    "class RandomForestClassifier(object):\n",
    "    def __init__(self, X,y, number_of_trees, max_features, max_samples=0.2, depth=None, min_samples_leaf=2):\n",
    "        # Add your code, such as initialization of trees here.\n",
    "        np.random.seed(12)\n",
    "        self.X, self.y=X,y\n",
    "        \n",
    "        self.max_features = max_features\n",
    "\n",
    "        self.number_of_trees = number_of_trees\n",
    "        self.max_samples, self.depth, self.min_samples_leaf  = max_samples, depth, min_samples_leaf\n",
    "        \n",
    "        self.trees = [self.create_tree() for i in range(self.number_of_trees)]\n",
    "        \n",
    "    def create_tree(self):\n",
    "        # Implement your training here.\n",
    " \n",
    " \n",
    "        return DecisionTreeClassifier(max_features=self.max_features,max_depth = self.depth, min_samples_leaf=self.min_samples_leaf)\n",
    "    \n",
    "    def fit (self, X, y):\n",
    "        self.max_samples=int(X_train.shape[0]*0.2)\n",
    "        idxs = np.random.permutation(len(self.y))[:self.max_samples]\n",
    "        return [t.fit(X[idxs], y[idxs]) for t in self.trees]\n",
    "    \n",
    "    def predict(self, X):\n",
    "        # Implement your prediction here.\n",
    "        '''for t in self.trees:\n",
    "            pridiction=t.predict(X) \n",
    "            print('pridiction',pridiction)\n",
    "        '''\n",
    "        pred=np.mean([t.predict(X) for t in self.trees], axis=0)\n",
    "        pred=np.where(pred > 0.5,1,0)\n",
    "        #print('pred',pred)\n",
    "        #print('pred, after',pred)\n",
    "        return pred\n",
    "\n"
   ]
  },
  {
   "cell_type": "code",
   "execution_count": 167,
   "metadata": {
    "scrolled": true
   },
   "outputs": [
    {
     "name": "stdout",
     "output_type": "stream",
     "text": [
      "confusion_matrix [[99  6]\n",
      " [35 39]]\n",
      "precision_recall_fscore_support (0.8027363184079602, 0.7349420849420849, 0.7419570338595689, None)\n",
      "roc_auc 0.7349420849420849\n"
     ]
    }
   ],
   "source": [
    "# Implement your training and evaluation here.\n",
    "\n",
    "rf = RandomForestClassifier(X_train,y_train, number_of_trees=10,max_features=6)\n",
    "# Train the model on training data\n",
    "rf.fit(X_train, y_train)\n",
    "\n",
    "# Use the forest's predict method on the test data\n",
    "y_pred = rf.predict(X_test)\n",
    "\n",
    "\n",
    "#evaluate\n",
    "from sklearn.metrics import precision_recall_fscore_support\n",
    "from sklearn.metrics import confusion_matrix\n",
    "#print('y_test',y_test, 'y_pred',y_pred)\n",
    "print('confusion_matrix',confusion_matrix(y_test, y_pred))\n",
    "print('precision_recall_fscore_support',precision_recall_fscore_support(y_test, y_pred, average='macro'))\n",
    "\n",
    "from sklearn.metrics import roc_curve, auc\n",
    "false_positive_rate, true_positive_rate, thresholds = roc_curve(y_test, y_pred)\n",
    "roc_auc = auc(false_positive_rate, true_positive_rate)\n",
    "\n",
    "print('roc_auc',roc_auc)\n"
   ]
  },
  {
   "cell_type": "code",
   "execution_count": 168,
   "metadata": {
    "scrolled": false
   },
   "outputs": [
    {
     "data": {
      "image/png": "[encoded data removed]",
      "text/plain": [
       "<Figure size 432x288 with 1 Axes>"
      ]
     },
     "metadata": {
      "needs_background": "light"
     },
     "output_type": "display_data"
    }
   ],
   "source": [
    "\n",
    "n_estimators = [1, 2, 4, 8, 16, 32, 64, 100, 200]\n",
    "train_results = []\n",
    "test_results = []\n",
    "for estimator in n_estimators:\n",
    "   rf = RandomForestClassifier(X_train,y_train,max_features=6,number_of_trees=estimator)\n",
    "   rf.fit(X_train, y_train)\n",
    "   train_pred = rf.predict(X_train)\n",
    "   false_positive_rate, true_positive_rate, thresholds = roc_curve(y_train, train_pred)\n",
    "   roc_auc = auc(false_positive_rate, true_positive_rate)\n",
    "   train_results.append(roc_auc)\n",
    "   y_pred = rf.predict(X_test)\n",
    "   false_positive_rate, true_positive_rate, thresholds = roc_curve(y_test, y_pred)\n",
    "   roc_auc = auc(false_positive_rate, true_positive_rate)\n",
    "   test_results.append(roc_auc)\n",
    "from matplotlib.legend_handler import HandlerLine2D\n",
    "line1, = plt.plot(n_estimators, train_results, 'b', label='Train AUC')\n",
    "line2, = plt.plot(n_estimators, test_results, 'r', label='Test AUC')\n",
    "plt.legend(handler_map={line1: HandlerLine2D(numpoints=2)})\n",
    "plt.ylabel('AUC score')\n",
    "plt.xlabel('n_estimators')\n",
    "plt.show()"
   ]
  },
  {
   "cell_type": "markdown",
   "metadata": {},
   "source": [
    "We can see that for our data and fix other parameters, we can stop at 16 trees for test data as increasing the number of trees decreases the test performance. \n"
   ]
  },
  {
   "cell_type": "markdown",
   "metadata": {},
   "source": [
    "## Task 2: Interpreting Random Forests\n",
    "\n",
    "Implement the mean decrease of accuracy for the [sklearn.ensemble.RandomForestClassifier](https://scikit-learn.org/stable/modules/generated/sklearn.ensemble.RandomForestClassifier.html) `forest` to analyse learned attribute importances. Use the test set `X_test` and `y_test` as out-of-bag-samples. Permute the values of the assessed attribute by randomly shuffling the corresponding column. Plot the results to compare the importance of each feature. Discuss your results (are any importance values surprising, do the results make sense in the context of the task, ...).\n",
    "\n",
    "Note: We have already trained the classifier and stored it in the variable `forest`. You only need to implement MDA and the plots for your results."
   ]
  },
  {
   "cell_type": "code",
   "execution_count": 169,
   "metadata": {},
   "outputs": [
    {
     "name": "stdout",
     "output_type": "stream",
     "text": [
      "Precision: [0.78070175 0.75384615]\n",
      "Recall: [0.84761905 0.66216216]\n",
      "F1-score: [0.81278539 0.70503597]\n"
     ]
    }
   ],
   "source": [
    "def create_forest():\n",
    "    import sklearn.ensemble\n",
    "    import sklearn.metrics\n",
    "    forest = sklearn.ensemble.RandomForestClassifier(8)\n",
    "    forest.fit(X_train, y_train)\n",
    "    prec, rec, f1, _ = sklearn.metrics.precision_recall_fscore_support(y_test, forest.predict(X_test))\n",
    "    print('Precision:', prec)\n",
    "    print('Recall:', rec)\n",
    "    print('F1-score:', f1)\n",
    "    return forest\n",
    "\n",
    "forest = create_forest()"
   ]
  },
  {
   "cell_type": "code",
   "execution_count": 179,
   "metadata": {},
   "outputs": [
    {
     "name": "stdout",
     "output_type": "stream",
     "text": [
      "Original accuracy : 0.770949720670391\n",
      "Features sorted by their score:\n",
      "[(0.1173, 'Title_Mr'), (0.0782, 'Sex'), (0.0335, 'Pclass_3'), (0.0279, 'Title_Miss'), (0.0223, 'Embarked_Q'), (0.0168, 'Title_Master'), (0.0168, 'Pclass_2'), (0.0168, 'Age'), (0.0112, 'Fare'), (0.0112, 'Embarked_S'), (0.0, 'Title_Rare'), (0.0, 'Title_Mrs'), (0.0, 'Embarked_C'), (-0.0056, 'Pclass_1'), (-0.0279, 'IsAlone')]\n"
     ]
    }
   ],
   "source": [
    "# Implement your solution here.\n",
    "\n",
    "\n",
    "from sklearn.metrics import accuracy_score\n",
    "\n",
    "from collections import defaultdict\n",
    "\n",
    "names=['Sex','Age','Fare',\n",
    "'Title_Master', 'Title_Miss', 'Title_Mr', 'Title_Mrs', 'Title_Rare',\n",
    "'Pclass_1', 'Pclass_2', 'Pclass_3',\n",
    "'IsAlone','Embarked_C', 'Embarked_Q', 'Embarked_S']\n",
    "\n",
    "acc = accuracy_score(y_test, forest.predict(X_test))\n",
    "print('Original accuracy :',acc)\n",
    "scores = defaultdict(list)\n",
    "for i in range(X_train.shape[1]):\n",
    "    X_t = X_test.copy()\n",
    "    np.random.shuffle(X_t[:, i])\n",
    "    shuff_acc = accuracy_score(y_test, forest.predict(X_t))\n",
    "    scores[names[i]].append(acc-shuff_acc)\n",
    "print (\"Features sorted by their score:\")\n",
    "print (sorted([(round(np.mean(score), 4), feat) for\n",
    "              feat, score in scores.items()], reverse=True))"
   ]
  },
  {
   "cell_type": "markdown",
   "metadata": {},
   "source": [
    "We add the namesList for features (We assume the list is correct.)\n",
    "After Permuting, the accuracy Decreacy scores are showed as above.\n",
    "We noticed that 'Title_Mr', 'Sex', 'Pclass_3','Title_Miss' are more important than other features. \n",
    "A negative value in the importance means that the random permutation of a feature worked better than the original values. This implies that the feature has no role in the prediction and is therefore not important."
   ]
  },
  {
   "cell_type": "markdown",
   "metadata": {},
   "source": [
    "## Task 3: Discrete AdaBoost with Decision Stumps\n",
    " \n",
    "*For all students other than B.Sc. Data Science.*  \n",
    "\n",
    "In this task, you will implement the discrete AdaBoost algorithm using decision stumps as weak learners. Your training will run until either `n_learners` weak learners have been added or a perfect accuracy on the training data set is achieved. Use the function `initialize_decision_stumps` to create decision stumps, which you can train on your weighted data using `fit` and predict using `predict`. The decision stumps are instances of the class [sklearn.tree.DecisionTreeClassifier](https://scikit-learn.org/stable/modules/generated/sklearn.tree.DecisionTreeClassifier.html).\n",
    "\n",
    "In addition, you will evaluate your model on the test data (`X_test`, `y_test`) using scikit-learn with the methods shown in the lecture (precision, recall, F1-score, confusion matrices, ...). Feel free to import any functions you need from scikit-learn for this purpose."
   ]
  },
  {
   "cell_type": "code",
   "execution_count": 229,
   "metadata": {},
   "outputs": [],
   "source": [
    "def initialize_decision_stump():\n",
    "    stump = DecisionTreeClassifier(criterion='entropy', max_depth=1)\n",
    "    return stump\n",
    "\n",
    "\n",
    "class AdaBoostClassifier(object):\n",
    "    def __init__(self, n_learners=50):\n",
    "        self.n_learners = n_learners\n",
    "        # Add any initialization you need here.\n",
    "       \n",
    "        \n",
    "        \n",
    "    \n",
    "    def fit(self, X, y):\n",
    "        # Implement your solution here.\n",
    "        weights = np.full(y.shape,1/len(y)) # init weights for all samples in dataset-> w = 1/N\n",
    "\n",
    "\n",
    "        # for storing stumps\n",
    "        self.clfs=[]\n",
    "        \n",
    "        \n",
    "        for _ in range(self.n_learners):#build up desicion stumps\n",
    "            min_error=float('inf')\n",
    "            clf = initialize_decision_stump() \n",
    "                \n",
    "            clf = clf.fit(X,y,sample_weight=weights) \n",
    "            # Append the single weak classifiers to a list which is later on used to make the weighted decision\n",
    "\n",
    "            predictions = clf.predict(X)\n",
    "\n",
    "            \n",
    "            # Calculate the weighted misclassification rate \n",
    "            wrong_flag=np.where(y!=predictions,1,0)\n",
    "            err = np.sum(weights*wrong_flag)/np.sum(weights)\n",
    "\n",
    "\n",
    "            # Calculate the alpha value(amount of say) for a stump\n",
    "            clf.alpha = 0.5*np.log((1-err)/err+1e-10) #in case of error=0\n",
    "\n",
    "            \n",
    "            # Update the weights wi --> These updated weights are used in the sample_weight parameter for the training of the next decision stump. \n",
    "            weights *= np.exp(-clf.alpha*y*predictions)#1 if y=pred; -1 if y!=pred\n",
    "            weights /= np.sum(weights)#normaliaztion \n",
    "\n",
    "            self.clfs.append(clf)\n",
    "        \n",
    "        \n",
    "    \n",
    "    def predict(self, X, y):\n",
    "        # Implement your solution here.\n",
    "        \n",
    "        # With each model in the model list, make a prediction \n",
    "        clf_preds=[clf.alpha*clf.predict(X) for clf in self.clfs]#Individual weighted prediction for all models (shape:n_learners*numberOfsamples)\n",
    "    \n",
    "        y_pred=np.sign(np.sum(clf_preds,axis=0))#overall prediction for all samples(shape:1*numberOfsamples)\n",
    "        \n",
    "        return y_pred\n"
   ]
  },
  {
   "cell_type": "code",
   "execution_count": 230,
   "metadata": {},
   "outputs": [
    {
     "name": "stdout",
     "output_type": "stream",
     "text": [
      "y_test_modified [ 1 -1  1  1 -1 -1 -1  1 -1  1  1 -1 -1  1  1  1  1 -1 -1 -1  1  1 -1  1\n",
      " -1  1 -1  1 -1 -1  1 -1 -1  1 -1 -1  1 -1 -1  1  1 -1 -1 -1 -1  1  1 -1\n",
      " -1 -1 -1 -1  1 -1  1 -1  1  1 -1  1 -1 -1 -1 -1  1 -1 -1 -1 -1 -1  1  1\n",
      " -1  1  1 -1 -1 -1  1  1 -1  1 -1 -1 -1 -1 -1 -1 -1  1  1 -1 -1 -1 -1 -1\n",
      " -1  1 -1 -1  1  1 -1 -1 -1 -1  1 -1 -1 -1  1 -1 -1 -1  1 -1 -1 -1 -1  1\n",
      " -1 -1 -1 -1  1  1  1  1  1  1 -1 -1  1 -1 -1 -1  1  1  1  1  1  1 -1 -1\n",
      "  1 -1 -1 -1  1 -1 -1  1  1 -1 -1  1  1 -1  1 -1  1 -1  1  1  1  1 -1 -1\n",
      "  1 -1  1 -1 -1  1  1 -1 -1 -1  1] y_pred [ 1.  1.  1.  1. -1.  1.  1.  1. -1.  1.  1. -1. -1.  1.  1.  1.  1. -1.\n",
      " -1.  1.  1. -1. -1.  1. -1.  1. -1.  1. -1. -1.  1.  1. -1.  1. -1. -1.\n",
      "  1. -1. -1.  1.  1. -1. -1. -1. -1.  1.  1.  1. -1. -1. -1. -1.  1.  1.\n",
      "  1. -1.  1. -1. -1.  1. -1.  1. -1. -1.  1. -1. -1. -1. -1. -1.  1.  1.\n",
      " -1. -1.  1. -1. -1. -1.  1. -1. -1.  1.  1. -1.  1. -1. -1.  1.  1.  1.\n",
      " -1. -1. -1.  1. -1. -1. -1. -1. -1. -1.  1.  1. -1. -1. -1. -1.  1. -1.\n",
      "  1.  1.  1. -1.  1. -1.  1. -1.  1. -1. -1.  1. -1.  1.  1. -1. -1. -1.\n",
      " -1.  1. -1.  1. -1. -1. -1. -1. -1.  1. -1.  1.  1. -1.  1.  1.  1.  1.\n",
      " -1. -1. -1.  1. -1. -1. -1.  1. -1. -1.  1.  1.  1. -1.  1. -1. -1. -1.\n",
      "  1. -1. -1.  1.  1. -1.  1. -1.  1. -1. -1.  1. -1. -1. -1. -1.  1.]\n",
      "roc_auc 0.7458172458172458\n"
     ]
    }
   ],
   "source": [
    "# Implement your training and evaluation here. You may reuse the code from Task 1.\n",
    "#class1 -> +1, class 2 -> -1\n",
    "y_train_modified=np.where(y_train==0,-1,1)\n",
    "y_test_modified=np.where(y_test==0,-1,1)\n",
    "\n",
    "#training\n",
    "classifier = AdaBoostClassifier(n_learners=50)\n",
    "classifier.fit(X_train, y_train_modified)\n",
    "y_pred = classifier.predict(X_test,y_test_modified)\n",
    "\n",
    "\n",
    "#evaluate\n",
    "print('y_test_modified',y_test_modified, 'y_pred',y_pred)\n",
    "\n",
    "from sklearn.metrics import roc_curve, auc\n",
    "false_positive_rate, true_positive_rate, thresholds = roc_curve(y_test_modified, y_pred)\n",
    "roc_auc = auc(false_positive_rate, true_positive_rate)\n",
    "\n",
    "print('roc_auc',roc_auc)\n",
    "\n"
   ]
  },
  {
   "cell_type": "code",
   "execution_count": 232,
   "metadata": {},
   "outputs": [
    {
     "data": {
      "image/png": "[encoded data removed]",
      "text/plain": [
       "<Figure size 432x288 with 1 Axes>"
      ]
     },
     "metadata": {
      "needs_background": "light"
     },
     "output_type": "display_data"
    }
   ],
   "source": [
    "#evaluation\n",
    "n_estimators = [1, 2, 4, 8, 16, 32, 64, 100, 200]\n",
    "\n",
    "train_results = []\n",
    "test_results = []\n",
    "for estimator in n_estimators:\n",
    "    classifier = AdaBoostClassifier(n_learners=estimator)\n",
    "    classifier.fit(X_train, y_train_modified)\n",
    "    \n",
    "    y_pred = classifier.predict(X_test,y_test_modified)\n",
    "    train_pred = classifier.predict(X_train,y_test_modified)\n",
    "    \n",
    "    \n",
    "    false_positive_rate, true_positive_rate, thresholds = roc_curve(y_train_modified, train_pred)\n",
    "    roc_auc = auc(false_positive_rate, true_positive_rate)\n",
    "    train_results.append(roc_auc)\n",
    "\n",
    "    false_positive_rate, true_positive_rate, thresholds = roc_curve(y_test_modified, y_pred)\n",
    "    roc_auc = auc(false_positive_rate, true_positive_rate)\n",
    "    test_results.append(roc_auc)\n",
    "    \n",
    "from matplotlib.legend_handler import HandlerLine2D\n",
    "line1, = plt.plot(n_estimators, train_results, 'b', label='Train AUC')\n",
    "line2, = plt.plot(n_estimators, test_results, 'r', label='Test AUC')\n",
    "plt.legend(handler_map={line1: HandlerLine2D(numpoints=2)})\n",
    "plt.ylabel('AUC score')\n",
    "plt.xlabel('n_estimators')\n",
    "plt.show()"
   ]
  },
  {
   "cell_type": "markdown",
   "metadata": {},
   "source": [
    "When we increase the number of weak learners the auc score increases for traning data; while for the test data, the curve is a little bit strange and we don't know how to explain it and hope we can get some tutoring about it."
   ]
  }
 ],
 "metadata": {
  "kernelspec": {
   "display_name": "Python 3",
   "language": "python",
   "name": "python3"
  },
  "language_info": {
   "codemirror_mode": {
    "name": "ipython",
    "version": 3
   },
   "file_extension": ".py",
   "mimetype": "text/x-python",
   "name": "python",
   "nbconvert_exporter": "python",
   "pygments_lexer": "ipython3",
   "version": "3.7.6"
  }
 },
 "nbformat": 4,
 "nbformat_minor": 1
}
