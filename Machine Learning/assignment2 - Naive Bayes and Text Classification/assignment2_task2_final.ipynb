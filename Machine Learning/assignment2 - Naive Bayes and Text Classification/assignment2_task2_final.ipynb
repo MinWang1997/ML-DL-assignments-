{
 "cells": [
  {
   "cell_type": "markdown",
   "metadata": {},
   "source": [
    "# Assignment 2: Naive Bayes and Text Classification\n",
    "\n",
    "Only use the already imported library `numpy`. Make sure that the `spamham.txt` dataset is in the same directory as the notebook.\n",
    "\n",
    "List your team members (name and immatriculation number) in the following cell:"
   ]
  },
  {
   "cell_type": "markdown",
   "metadata": {},
   "source": [
    "<h3>\n",
    "\n",
    "Min Wang 3440557\n",
    "\n",
    "Sisi Miao 3377882\n",
    "    \n",
    "Dominik Sellenthin 2836308    \n",
    "</h3>\n"
   ]
  },
  {
   "cell_type": "code",
   "execution_count": 6,
   "metadata": {},
   "outputs": [
    {
     "name": "stdout",
     "output_type": "stream",
     "text": [
      "Sample:\n",
      "ham: ['go', 'until', 'jurong', 'point', 'crazy', 'available', 'only', 'in', 'bugis', 'n', 'great', 'world', 'la', 'e', 'buffet', 'cine', 'there', 'got', 'amore', 'wat']\n",
      "spam: ['free', 'entry', 'in', '2', 'a', 'wkly', 'comp', 'to', 'win', 'fa', 'cup', 'final', 'tkts', '21st', 'may', '2005', 'text', 'fa', 'to', '87121', 'to', 'receive', 'entry', 'questionstd', 'txt', 'ratetcs', 'apply', '08452810075over18s']\n"
     ]
    }
   ],
   "source": [
    "# Load required packages and dataset. Do not modify.\n",
    "import numpy as np\n",
    "\n",
    "def load_spamham_dataset():\n",
    "    import string\n",
    "    \n",
    "    with open('spamham.txt', mode='r', encoding='utf-8') as f:\n",
    "        rows = [l.strip().split('\\t')[:2] for l in f]\n",
    "    \n",
    "    y, X = zip(*rows)\n",
    "    X =[x.translate(str.maketrans('', '', string.punctuation)).lower().split() for x in X]\n",
    "    \n",
    "    return X, y\n",
    "    \n",
    "X, y = load_spamham_dataset()\n",
    "\n",
    "print('Sample:')\n",
    "print(f'{y[0]}: {X[0]}')\n",
    "print(f'{y[2]}: {X[2]}')"
   ]
  },
  {
   "cell_type": "markdown",
   "metadata": {},
   "source": [
    "## Task 2: Spam Classification with Naive Bayes\n",
    "\n",
    "Check out the description of the dataset at [https://archive.ics.uci.edu/ml/datasets/SMS+Spam+Collection](https://archive.ics.uci.edu/ml/datasets/SMS+Spam+Collection).\n",
    "\n",
    "Implement a Naive Bayes classifier with Laplace smoothing to detect whether a text message is spam or ham (not spam).\n",
    "\n",
    "A text message is represented by a list of string tokens as shown above.\n",
    "The classification target is binary and the two possible labels are the strings `'spam'` and `'ham'`.\n",
    "\n",
    "Fill out the methods in `NaiveBayesSpamClassifier` to train (`fit`) and predict (`predict`). Feel free to introduce new fields and methods based on your needs, but the methods `fit` and `predict` are required and their interface should not be changed.\n",
    "\n",
    "Hint: Try to map the text messages to word frequency vectors by counting how often each word occurs in a message."
   ]
  },
  {
   "cell_type": "code",
   "execution_count": 7,
   "metadata": {},
   "outputs": [],
   "source": [
    "# Easy-version --- data preprocessing\n",
    "class CountVectorizer_1(object):\n",
    "    def __init__(self, pass_stop=False):\n",
    "        self.pass_stop = pass_stop  # default: don't filter\n",
    "    \n",
    "    def fit(self, X):\n",
    "        \n",
    "        self.features = set()\n",
    "        for line in X:\n",
    "            for word in line:\n",
    "                # self-define filtering rules\n",
    "                if self.pass_stop:  \n",
    "                    if len(word)==1:\n",
    "                        continue\n",
    "                self.features.add(word)\n",
    "        # store features\n",
    "        self.features = np.sort(list(self.features))\n",
    "        self.feature_index = np.arange(len(self.features)).astype(int)\n",
    "        self.feature_dict = {}\n",
    "        for i in range(len(self.features)):\n",
    "            self.feature_dict[str(self.features[i])] = self.feature_index[i]\n",
    "        \n",
    "    def transform(self, X):\n",
    "        from scipy import sparse\n",
    "        rows = []\n",
    "        columns = []\n",
    "        for i in range(len(X)):\n",
    "            for word in X[i]:\n",
    "                if word in self.feature_dict:\n",
    "                    rows.append(i)\n",
    "                    columns.append(self.feature_dict[word])\n",
    "        vals = np.ones((len(rows),)).astype(int)\n",
    "\n",
    "        return sparse.csr_matrix((vals, (rows, columns)), shape=(len(X), len(self.feature_index)))\n",
    "\n",
    "\n",
    "    def fit_transform(self, X):\n",
    "        self.fit(X)\n",
    "        X_ = self.transform(X)\n",
    "        return X_"
   ]
  },
  {
   "cell_type": "code",
   "execution_count": 8,
   "metadata": {},
   "outputs": [],
   "source": [
    "# Implement your solution here.\n",
    "# P(Y|X) = P(X|Y)P(Y) / P(X)\n",
    "class NaiveBayesSpamClassifier(object):\n",
    "    def __init__(self):\n",
    "        pass\n",
    "    \n",
    "    \n",
    "    def fit(self, X, y):\n",
    "        \"\"\"\n",
    "        X is a list of `n` text messages. Each text message is a list of strings with at least length one.\n",
    "        y is a list of `n` labels either the string 'spam' or the string 'ham'.\n",
    "        \"\"\"\n",
    "        X_train = X.toarray()\n",
    "        y_train = np.array(y)\n",
    "        train_num = y_train.shape[0]\n",
    "        feature_num = X_train.shape[1]\n",
    "        # P(Y=ham) and P(Y=spam) ---- Prior of Y\n",
    "        ham_num = np.sum(y_train=='ham')\n",
    "        spam_num = np.sum(y_train=='spam')\n",
    "        \n",
    "        # Laplace Smooth\n",
    "        self.Py_ham = (ham_num + 1) / (train_num + 2)\n",
    "        self.Py_spam = (spam_num + 1) / (train_num + 2)\n",
    "        \n",
    "        # P(X) for each feature ----- Prior of X's features\n",
    "        ham_count = np.ones(feature_num)\n",
    "        spam_count = np.ones(feature_num)\n",
    "        ham_denom, spam_denom = feature_num, feature_num\n",
    "        for i in range(train_num):\n",
    "            if y_train[i] == 'ham':\n",
    "                ham_count += X_train[i]\n",
    "                ham_denom += np.sum(X_train[i])\n",
    "            else:\n",
    "                spam_count += X_train[i]\n",
    "                spam_denom += np.sum(X_train[i])\n",
    "        # avoid multi-multiply, use log() here\n",
    "        self.P_ham_prob = np.log(ham_count/ham_denom)\n",
    "        self.P_spam_prob = np.log(spam_count/spam_denom)\n",
    "        \n",
    "    def predict(self, X):\n",
    "        \"\"\"\n",
    "        X is a list of `n` text messages. Each text message is a list of strings with at least length one.\n",
    "        The method returns a list of `n` strings, i.e. classification labels ('spam' or 'ham').\n",
    "        \"\"\"\n",
    "        X_test = X.toarray()\n",
    "        test_num = X_test.shape[0]\n",
    "        P_ham, P_spam = np.zeros(test_num), np.zeros(test_num)\n",
    "        y_hat = ['ham'] * test_num\n",
    "        for i in range(test_num):\n",
    "            P_ham[i] = np.sum(self.P_ham_prob * X_test[i]) + np.log(self.Py_ham)\n",
    "            P_spam[i] = np.sum(self.P_spam_prob * X_test[i]) + np.log(self.Py_spam)\n",
    "            \n",
    "            threshold = 1.0  # tolerate spam in case misclassify ham into spam\n",
    "            \n",
    "            if P_ham[i] + threshold > P_spam[i]:\n",
    "                y_hat[i] = 'ham'\n",
    "            else:\n",
    "                y_hat[i] = 'spam'\n",
    "            \n",
    "        return y_hat"
   ]
  },
  {
   "cell_type": "code",
   "execution_count": 9,
   "metadata": {},
   "outputs": [],
   "source": [
    "# The following code will evaluate your classifier.\n",
    "class HamClassifier(object):\n",
    "    \"\"\"\n",
    "    This classifier is a primitive baseline, which just predicts the most common class each time.\n",
    "    Naive Bayes should definitely beat this.\n",
    "    \"\"\"\n",
    "    def fit(self, X, y): pass\n",
    "    def predict(self, X): return (X.shape[0])*['ham']\n",
    "\n",
    "    \n",
    "def train_evaluate(classifier, X, y):\n",
    "    from sklearn.metrics import confusion_matrix, accuracy_score\n",
    "    from sklearn.model_selection import train_test_split\n",
    "    \n",
    "    # Apply train-test split.\n",
    "    X_train, X_test, y_train, y_test = train_test_split(X, y, test_size=0.3, random_state=2020)\n",
    "    \n",
    "    counter = CountVectorizer_1()\n",
    "    X_train = counter.fit_transform(X_train)\n",
    "    X_test = counter.transform(X_test)\n",
    "    \n",
    "    # Inititialize and train classifier.\n",
    "    classifier.fit(X_train, y_train)\n",
    "    # Evaluate classifier on test data.\n",
    "    yhat_test = classifier.predict(X_test)\n",
    "    cmatrix = confusion_matrix(y_test, yhat_test, labels=['ham', 'spam'])\n",
    "    accuracy = accuracy_score(y_test, yhat_test)\n",
    "\n",
    "    return cmatrix, accuracy\n",
    "\n",
    "\n",
    "def plot_confusion_matrix(cmatrix, classifier_name):\n",
    "    import matplotlib.pyplot as plt\n",
    "    \n",
    "    fig, ax = plt.subplots(1, 1)\n",
    "    ax.matshow(cmatrix, cmap='Greens')\n",
    "    for x in (0, 1):\n",
    "        for y in (0, 1):\n",
    "            ax.text(x, y, cmatrix[y, x])\n",
    "    ax.set_xlabel('predicted label')\n",
    "    ax.set_ylabel('true label')\n",
    "    ax.set_xticklabels(['', 'ham', 'spam'])\n",
    "    ax.set_yticklabels(['', 'ham', 'spam'])\n",
    "    ax.set_title(classifier_name)"
   ]
  },
  {
   "cell_type": "code",
   "execution_count": 10,
   "metadata": {},
   "outputs": [],
   "source": [
    "ham_classifier = HamClassifier()\n",
    "your_classifier = NaiveBayesSpamClassifier()\n",
    "ham_cmatrix, ham_accuracy = train_evaluate(ham_classifier, X, y)\n",
    "your_cmatrix, your_accuracy = train_evaluate(your_classifier, X, y)"
   ]
  },
  {
   "cell_type": "code",
   "execution_count": 11,
   "metadata": {},
   "outputs": [
    {
     "name": "stdout",
     "output_type": "stream",
     "text": [
      "ham_accuracy is: 0.8637\n",
      "your_accuracy is: 0.9868 \n"
     ]
    },
    {
     "data": {
      "image/png": "[encoded data removed]",
      "text/plain": [
       "<Figure size 432x288 with 1 Axes>"
      ]
     },
     "metadata": {
      "needs_background": "light"
     },
     "output_type": "display_data"
    },
    {
     "data": {
      "image/png": "[encoded data removed]",
      "text/plain": [
       "<Figure size 432x288 with 1 Axes>"
      ]
     },
     "metadata": {
      "needs_background": "light"
     },
     "output_type": "display_data"
    }
   ],
   "source": [
    "plot_confusion_matrix(ham_cmatrix, 'HamClassifier')\n",
    "print(\"ham_accuracy is: %.4f\" % ham_accuracy)\n",
    "plot_confusion_matrix(your_cmatrix, 'NaiveBayesSpamClassifier')\n",
    "print(\"your_accuracy is: %.4f \"% your_accuracy)"
   ]
  },
  {
   "cell_type": "code",
   "execution_count": null,
   "metadata": {},
   "outputs": [],
   "source": []
  },
  {
   "cell_type": "code",
   "execution_count": null,
   "metadata": {},
   "outputs": [],
   "source": []
  },
  {
   "cell_type": "code",
   "execution_count": null,
   "metadata": {},
   "outputs": [],
   "source": []
  }
 ],
 "metadata": {
  "kernelspec": {
   "display_name": "Python 3",
   "language": "python",
   "name": "python3"
  },
  "language_info": {
   "codemirror_mode": {
    "name": "ipython",
    "version": 3
   },
   "file_extension": ".py",
   "mimetype": "text/x-python",
   "name": "python",
   "nbconvert_exporter": "python",
   "pygments_lexer": "ipython3",
   "version": "3.7.6"
  }
 },
 "nbformat": 4,
 "nbformat_minor": 4
}
